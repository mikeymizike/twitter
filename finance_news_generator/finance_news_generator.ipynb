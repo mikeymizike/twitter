{
 "cells": [
  {
   "cell_type": "code",
   "execution_count": 1,
   "id": "a55eadbe",
   "metadata": {},
   "outputs": [],
   "source": [
    "import tweepy, openai, json,  re, random, datetime as dt\n",
    "\n",
    "def num_tokens_from_string(string: str, encoding_name: str) -> int:\n",
    "    \"\"\"Returns the number of tokens in a text string.\"\"\"\n",
    "    import tiktoken\n",
    "    encoding = tiktoken.encoding_for_model(encoding_name)\n",
    "    num_tokens = len(encoding.encode(string))\n",
    "    return num_tokens"
   ]
  },
  {
   "cell_type": "markdown",
   "id": "e8299026",
   "metadata": {},
   "source": [
    "## Twitter api below"
   ]
  },
  {
   "cell_type": "code",
   "execution_count": 33,
   "id": "b7e3e7d8",
   "metadata": {},
   "outputs": [],
   "source": [
    "# retrieve twitter api keys from local json file\n",
    "with open('..\\\\twitter_config.json') as f:\n",
    "    creds = json.load(f)\n",
    "\n",
    "bearer_token = creds['bearer_token']\n",
    "consumer_key = creds['consumer_key']\n",
    "consumer_secret = creds['consumer_secret']\n",
    "access_token = creds['access_token']\n",
    "access_token_secret = creds['access_token_secret']\n",
    "\n",
    "# open instance of twitter api and get authorized access\n",
    "auth = tweepy.OAuthHandler(consumer_key, consumer_secret)\n",
    "auth.set_access_token(access_token, access_token_secret)\n",
    "api = tweepy.API(auth)\n",
    "\n",
    "# twitter handles of relevant news orgs to compile the news\n",
    "screen_names = ['markets', 'WSJmarkets', 'CNBCnow', 'FTMarkets', 'MarketWatch', 'MarketCurrents'] \n",
    "responses = []\n",
    "for sn in screen_names: # loops through screen_names list and appends tweepy objects of returned tweets for each entry to responses\n",
    "    responses.append(\n",
    "        api.user_timeline(\n",
    "            since = None,\n",
    "            screen_name = sn,\n",
    "            count = 50,\n",
    "            include_rts = False,\n",
    "            tweet_mode = 'extended')\n",
    "    )\n",
    "\n",
    "start_date = dt.datetime.now(dt.timezone.utc) - dt.timedelta(days=1/3) # start date for tweets for the last 8 hours\n",
    "end_date = dt.datetime.now(dt.timezone.utc) # grabs the UTC time for right now\n",
    "\n",
    "text_list = [] # empty list in which to place tweet text\n",
    "# this loop filters out older tweets and cleans tweets of http links\n",
    "for res in responses:\n",
    "    for i in range(0, len(res)):\n",
    "        if res[i].created_at < end_date and res[i].created_at > start_date: # limit tweets to those in last hours/days specified above\n",
    "            text_list.append( # appends tweet text to text_list\n",
    "                re.sub(r'http\\S+', '', res[i]._json['full_text']).strip() # uses regular expression to cut out http links\n",
    "            )\n",
    "random.shuffle(text_list) # randomizes text_list list of tweets\n",
    "tweet_text = '\\n'.join(text_list) # creates a single text string to deliver to GPT\n"
   ]
  },
  {
   "cell_type": "markdown",
   "id": "99c8deb8",
   "metadata": {},
   "source": [
    "## Putting the prompt together for OpenAI to digest"
   ]
  },
  {
   "cell_type": "code",
   "execution_count": 46,
   "id": "b6d60aa7",
   "metadata": {},
   "outputs": [
    {
     "data": {
      "text/plain": [
       "3195"
      ]
     },
     "execution_count": 46,
     "metadata": {},
     "output_type": "execute_result"
    }
   ],
   "source": [
    "prompt1 = ' '.join('''\n",
    "write a limerick from the tweets below\n",
    "'''.split())\n",
    "\n",
    "breaker1 = '''\\n\"\"\"\\n'''\n",
    "\n",
    "prompt2 = tweet_text\n",
    "\n",
    "prompt = prompt1 + breaker1 + prompt2 + breaker1 \n",
    "num_tokens_from_string(prompt, \"text-davinci-003\")"
   ]
  },
  {
   "cell_type": "markdown",
   "id": "16ac39d5",
   "metadata": {},
   "source": [
    "## Sending the prompt to OpenAI to do its work"
   ]
  },
  {
   "cell_type": "code",
   "execution_count": 58,
   "id": "84429a8a",
   "metadata": {},
   "outputs": [],
   "source": [
    "# running this block costs money\n",
    "with open('.\\openai_key.json', 'r') as j:\n",
    "     contents = json.loads(j.read())\n",
    "openai.api_key = contents['openai_key']\n",
    "\n",
    "n = 5\n",
    "response = openai.Completion.create(\n",
    "                                    model=\"text-davinci-003\",\n",
    "                                    prompt = prompt,# \n",
    "                                    suffix = None, # suffix that comes after a completion of inserted text\n",
    "                                    max_tokens = 4096 - num_tokens_from_string(prompt, \"text-davinci-003\"), #\n",
    "                                    temperature = .9, # the lower the more determininistic (less variability in) the model\n",
    "                                    top_p = 1, # an alternative to sampling with temperature\n",
    "                                    n = n, # how many completions to generate for each prompt\n",
    "                                    frequency_penalty = 1.0,\n",
    "                                    presence_penalty = 0.0,\n",
    "                                   )\n",
    "for i in range(n):\n",
    "\n",
    "    print(response['choices'][i]['text'])\n",
    "    print(len(response['choices'][i]['text'].split()))"
   ]
  },
  {
   "cell_type": "code",
   "execution_count": 59,
   "id": "b8ed6e4f",
   "metadata": {},
   "outputs": [],
   "source": [
    "# this line will send out the selected limerick as a tweet and tag the news orgs from which the source tweets were pulled\n",
    "api.update_status(response['choices'][1]['text'] +'\\n'+ '\\n'.join(['@'+x for x in screen_names]))"
   ]
  },
  {
   "cell_type": "code",
   "execution_count": null,
   "id": "8c244174",
   "metadata": {},
   "outputs": [],
   "source": []
  }
 ],
 "metadata": {
  "kernelspec": {
   "display_name": "Python 3",
   "language": "python",
   "name": "python3"
  },
  "language_info": {
   "codemirror_mode": {
    "name": "ipython",
    "version": 3
   },
   "file_extension": ".py",
   "mimetype": "text/x-python",
   "name": "python",
   "nbconvert_exporter": "python",
   "pygments_lexer": "ipython3",
   "version": "3.8.8"
  }
 },
 "nbformat": 4,
 "nbformat_minor": 5
}
